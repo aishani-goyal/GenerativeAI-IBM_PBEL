{
  "nbformat": 4,
  "nbformat_minor": 0,
  "metadata": {
    "colab": {
      "provenance": []
    },
    "kernelspec": {
      "name": "python3",
      "display_name": "Python 3"
    },
    "language_info": {
      "name": "python"
    }
  },
  "cells": [
    {
      "cell_type": "code",
      "execution_count": null,
      "metadata": {
        "id": "PimLu7RFhlWR"
      },
      "outputs": [],
      "source": [
        "import numpy as np"
      ]
    },
    {
      "cell_type": "code",
      "source": [
        "docs = ['go india',\n",
        "        'india india',\n",
        "        'hip hip hurray',\n",
        "        'jeetega bhai jeetega india',\n",
        "        'bharat mata ki jai',\n",
        "        'kohli kohli',\n",
        "        'sachin sachin',\n",
        "        'dhoni dhoni',\n",
        "        'modi ji ki jai',\n",
        "        'inquilab zindabad']"
      ],
      "metadata": {
        "id": "yAhEWxfyhnXe"
      },
      "execution_count": null,
      "outputs": []
    },
    {
      "cell_type": "code",
      "source": [
        "from tensorflow.keras.preprocessing.text import Tokenizer\n",
        "tokenizer = Tokenizer()"
      ],
      "metadata": {
        "id": "gqmyEqCoiFUo"
      },
      "execution_count": null,
      "outputs": []
    },
    {
      "cell_type": "code",
      "source": [
        "tokenizer.fit_on_texts(docs)"
      ],
      "metadata": {
        "id": "Rqu5_XZ7i10W"
      },
      "execution_count": null,
      "outputs": []
    },
    {
      "cell_type": "code",
      "source": [
        "len(tokenizer.word_index)"
      ],
      "metadata": {
        "colab": {
          "base_uri": "https://localhost:8080/"
        },
        "id": "mZs4HDWJi5pq",
        "outputId": "4caec41b-53f9-46f0-991a-57d8b8d1cbd7"
      },
      "execution_count": null,
      "outputs": [
        {
          "output_type": "execute_result",
          "data": {
            "text/plain": [
              "17"
            ]
          },
          "metadata": {},
          "execution_count": 26
        }
      ]
    },
    {
      "cell_type": "code",
      "source": [
        "sequences = tokenizer.texts_to_sequences(docs)\n",
        "sequences"
      ],
      "metadata": {
        "colab": {
          "base_uri": "https://localhost:8080/"
        },
        "id": "llCoVlRCi85f",
        "outputId": "6fc7228a-60a1-4636-fc5f-22ee0d6ad9a9"
      },
      "execution_count": null,
      "outputs": [
        {
          "output_type": "execute_result",
          "data": {
            "text/plain": [
              "[[9, 1],\n",
              " [1, 1],\n",
              " [2, 2, 10],\n",
              " [3, 11, 3, 1],\n",
              " [12, 13, 4, 5],\n",
              " [6, 6],\n",
              " [7, 7],\n",
              " [8, 8],\n",
              " [14, 15, 4, 5],\n",
              " [16, 17]]"
            ]
          },
          "metadata": {},
          "execution_count": 27
        }
      ]
    },
    {
      "cell_type": "code",
      "source": [
        "from keras.utils import pad_sequences\n",
        "sequences = pad_sequences(sequences, padding='post')\n",
        "sequences"
      ],
      "metadata": {
        "colab": {
          "base_uri": "https://localhost:8080/"
        },
        "id": "wEhgZmUVj4dp",
        "outputId": "a6084daa-8b1c-41ee-bab5-e44f6a943d59"
      },
      "execution_count": null,
      "outputs": [
        {
          "output_type": "execute_result",
          "data": {
            "text/plain": [
              "array([[ 9,  1,  0,  0],\n",
              "       [ 1,  1,  0,  0],\n",
              "       [ 2,  2, 10,  0],\n",
              "       [ 3, 11,  3,  1],\n",
              "       [12, 13,  4,  5],\n",
              "       [ 6,  6,  0,  0],\n",
              "       [ 7,  7,  0,  0],\n",
              "       [ 8,  8,  0,  0],\n",
              "       [14, 15,  4,  5],\n",
              "       [16, 17,  0,  0]], dtype=int32)"
            ]
          },
          "metadata": {},
          "execution_count": 28
        }
      ]
    },
    {
      "cell_type": "code",
      "source": [
        "from tensorflow.keras.models import Sequential\n",
        "from tensorflow.keras.layers import Embedding\n",
        "\n",
        "model = Sequential()\n",
        "model.add(Embedding(17, output_dim=2, input_length=5))"
      ],
      "metadata": {
        "id": "al_0wic4lRge"
      },
      "execution_count": null,
      "outputs": []
    },
    {
      "cell_type": "code",
      "source": [
        "model.compile('adam', 'accuracy')"
      ],
      "metadata": {
        "id": "p9MosMFIlrU2"
      },
      "execution_count": null,
      "outputs": []
    },
    {
      "cell_type": "code",
      "source": [
        "sequences = np.clip(sequences, 0, 16)\n",
        "\n",
        "pred = model.predict(sequences)\n",
        "print(pred)"
      ],
      "metadata": {
        "colab": {
          "base_uri": "https://localhost:8080/"
        },
        "id": "bN8wbUBwlz1T",
        "outputId": "d91a21b0-b7b9-4793-ca29-87206a65ab29"
      },
      "execution_count": null,
      "outputs": [
        {
          "output_type": "stream",
          "name": "stdout",
          "text": [
            "\u001b[1m1/1\u001b[0m \u001b[32m━━━━━━━━━━━━━━━━━━━━\u001b[0m\u001b[37m\u001b[0m \u001b[1m0s\u001b[0m 122ms/step\n",
            "[[[-0.00136174  0.0439494 ]\n",
            "  [ 0.02158644 -0.01779016]\n",
            "  [ 0.02733142 -0.03885023]\n",
            "  [ 0.02733142 -0.03885023]]\n",
            "\n",
            " [[ 0.02158644 -0.01779016]\n",
            "  [ 0.02158644 -0.01779016]\n",
            "  [ 0.02733142 -0.03885023]\n",
            "  [ 0.02733142 -0.03885023]]\n",
            "\n",
            " [[ 0.02139003 -0.01216776]\n",
            "  [ 0.02139003 -0.01216776]\n",
            "  [-0.00932165  0.02031353]\n",
            "  [ 0.02733142 -0.03885023]]\n",
            "\n",
            " [[-0.04584002 -0.01599006]\n",
            "  [-0.04085668 -0.03662983]\n",
            "  [-0.04584002 -0.01599006]\n",
            "  [ 0.02158644 -0.01779016]]\n",
            "\n",
            " [[-0.01917003  0.01210002]\n",
            "  [ 0.00366277 -0.03103024]\n",
            "  [-0.02015094 -0.04748013]\n",
            "  [ 0.02560531 -0.00979672]]\n",
            "\n",
            " [[ 0.03503902 -0.03466899]\n",
            "  [ 0.03503902 -0.03466899]\n",
            "  [ 0.02733142 -0.03885023]\n",
            "  [ 0.02733142 -0.03885023]]\n",
            "\n",
            " [[ 0.03698729  0.01559149]\n",
            "  [ 0.03698729  0.01559149]\n",
            "  [ 0.02733142 -0.03885023]\n",
            "  [ 0.02733142 -0.03885023]]\n",
            "\n",
            " [[-0.0349112   0.01843239]\n",
            "  [-0.0349112   0.01843239]\n",
            "  [ 0.02733142 -0.03885023]\n",
            "  [ 0.02733142 -0.03885023]]\n",
            "\n",
            " [[ 0.00633713  0.01919831]\n",
            "  [ 0.0213005  -0.0430489 ]\n",
            "  [-0.02015094 -0.04748013]\n",
            "  [ 0.02560531 -0.00979672]]\n",
            "\n",
            " [[ 0.00963704 -0.03380515]\n",
            "  [ 0.00963704 -0.03380515]\n",
            "  [ 0.02733142 -0.03885023]\n",
            "  [ 0.02733142 -0.03885023]]]\n"
          ]
        }
      ]
    },
    {
      "cell_type": "code",
      "source": [
        "from tensorflow.keras.datasets import imdb\n",
        "from tensorflow.keras.preprocessing.text import Tokenizer\n",
        "from tensorflow.keras.utils import pad_sequences\n",
        "from tensorflow.keras import Sequential\n",
        "from tensorflow.keras.layers import Dense,SimpleRNN, Embedding, Flatten"
      ],
      "metadata": {
        "id": "xMRvNmgPl-H6"
      },
      "execution_count": null,
      "outputs": []
    },
    {
      "cell_type": "code",
      "source": [
        "(X_train, y_train), (X_test, y_test) = imdb.load_data(num_words=10000)"
      ],
      "metadata": {
        "id": "tx3NR8BlozSO"
      },
      "execution_count": null,
      "outputs": []
    },
    {
      "cell_type": "code",
      "source": [
        "X_train = pad_sequences(X_train, padding='post', maxlen=50)\n",
        "X_test = pad_sequences(X_test, padding='post', maxlen=50)"
      ],
      "metadata": {
        "id": "-Wqsi0F7o8WW"
      },
      "execution_count": null,
      "outputs": []
    },
    {
      "cell_type": "code",
      "source": [
        "X_train.shape"
      ],
      "metadata": {
        "colab": {
          "base_uri": "https://localhost:8080/"
        },
        "id": "jTLlRCUapG4H",
        "outputId": "1c8c3ea8-7519-4750-c079-f28b4dd4d47b"
      },
      "execution_count": null,
      "outputs": [
        {
          "output_type": "execute_result",
          "data": {
            "text/plain": [
              "(25000, 50)"
            ]
          },
          "metadata": {},
          "execution_count": 35
        }
      ]
    },
    {
      "cell_type": "code",
      "source": [
        "model = Sequential()\n",
        "model.add(Embedding(input_dim=10000, output_dim=2, input_length=50))\n",
        "model.add(SimpleRNN(32, return_sequences=False))\n",
        "model.add(Dense(1, activation='sigmoid'))\n"
      ],
      "metadata": {
        "id": "OTzP4JrZpfFo"
      },
      "execution_count": null,
      "outputs": []
    },
    {
      "cell_type": "code",
      "source": [
        "model.compile(optimizer='adam', loss='binary_crossentropy', metrics=['acc'])\n",
        "history = model.fit(X_train, y_train, epochs=5, validation_data=(X_test, y_test))"
      ],
      "metadata": {
        "colab": {
          "base_uri": "https://localhost:8080/"
        },
        "id": "vIJ8NSzsqsGY",
        "outputId": "42d33e14-09dd-43c1-a0cc-5e2b0c799c84"
      },
      "execution_count": null,
      "outputs": [
        {
          "output_type": "stream",
          "name": "stdout",
          "text": [
            "Epoch 1/5\n",
            "\u001b[1m782/782\u001b[0m \u001b[32m━━━━━━━━━━━━━━━━━━━━\u001b[0m\u001b[37m\u001b[0m \u001b[1m15s\u001b[0m 15ms/step - acc: 0.5204 - loss: 0.6901 - val_acc: 0.6991 - val_loss: 0.5793\n",
            "Epoch 2/5\n",
            "\u001b[1m782/782\u001b[0m \u001b[32m━━━━━━━━━━━━━━━━━━━━\u001b[0m\u001b[37m\u001b[0m \u001b[1m12s\u001b[0m 15ms/step - acc: 0.7883 - loss: 0.4591 - val_acc: 0.8115 - val_loss: 0.4145\n",
            "Epoch 3/5\n",
            "\u001b[1m782/782\u001b[0m \u001b[32m━━━━━━━━━━━━━━━━━━━━\u001b[0m\u001b[37m\u001b[0m \u001b[1m21s\u001b[0m 16ms/step - acc: 0.8642 - loss: 0.3270 - val_acc: 0.8047 - val_loss: 0.4283\n",
            "Epoch 4/5\n",
            "\u001b[1m782/782\u001b[0m \u001b[32m━━━━━━━━━━━━━━━━━━━━\u001b[0m\u001b[37m\u001b[0m \u001b[1m14s\u001b[0m 17ms/step - acc: 0.9025 - loss: 0.2515 - val_acc: 0.7887 - val_loss: 0.4738\n",
            "Epoch 5/5\n",
            "\u001b[1m782/782\u001b[0m \u001b[32m━━━━━━━━━━━━━━━━━━━━\u001b[0m\u001b[37m\u001b[0m \u001b[1m20s\u001b[0m 17ms/step - acc: 0.9209 - loss: 0.2168 - val_acc: 0.7888 - val_loss: 0.5647\n"
          ]
        }
      ]
    },
    {
      "cell_type": "code",
      "source": [
        "# Get the word index used by the IMDB dataset\n",
        "word_index = imdb.get_word_index()\n",
        "\n",
        "# Adjust indices (Keras reserves 0-3)\n",
        "word_index = {k: (v + 3) for k, v in word_index.items()}\n",
        "word_index[\"<PAD>\"] = 0\n",
        "word_index[\"<START>\"] = 1\n",
        "word_index[\"<UNK>\"] = 2\n",
        "word_index[\"<UNUSED>\"] = 3"
      ],
      "metadata": {
        "id": "CJsY5PGZq8SO"
      },
      "execution_count": null,
      "outputs": []
    },
    {
      "cell_type": "code",
      "source": [
        "def simple_encode(text):\n",
        "    words = text.lower().split()\n",
        "    encoded = [1] # Start token\n",
        "    for word in words:\n",
        "        encoded.append(word_index.get(word, 2)) # Unknown if not found\n",
        "    return pad_sequences([encoded], maxlen=50, padding='post')"
      ],
      "metadata": {
        "id": "ppWaY0s4EvsT"
      },
      "execution_count": null,
      "outputs": []
    },
    {
      "cell_type": "code",
      "source": [
        "# Your custom sentence\n",
        "text = \"the movie was bad\"\n",
        "\n",
        "# Encode and predict\n",
        "encoded = simple_encode(text)\n",
        "pred = model.predict(encoded)\n",
        "\n",
        "print(\"Sentiment score:\", pred[0][0])\n",
        "print(\"Prediction:\", \"Positive \" if pred[0][0] >= 0.5 else \"Negative\")"
      ],
      "metadata": {
        "colab": {
          "base_uri": "https://localhost:8080/"
        },
        "id": "42lJASToE7-r",
        "outputId": "93e92ce7-64e8-4c4f-fdec-b3defdeb9ba3"
      },
      "execution_count": null,
      "outputs": [
        {
          "output_type": "stream",
          "name": "stdout",
          "text": [
            "\u001b[1m1/1\u001b[0m \u001b[32m━━━━━━━━━━━━━━━━━━━━\u001b[0m\u001b[37m\u001b[0m \u001b[1m0s\u001b[0m 193ms/step\n",
            "Sentiment score: 0.021202022\n",
            "Prediction: Negative\n"
          ]
        }
      ]
    },
    {
      "cell_type": "code",
      "source": [],
      "metadata": {
        "id": "1CPXudklFG_H"
      },
      "execution_count": null,
      "outputs": []
    }
  ]
}