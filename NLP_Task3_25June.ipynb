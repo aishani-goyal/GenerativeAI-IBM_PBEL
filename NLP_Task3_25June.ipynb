{
  "nbformat": 4,
  "nbformat_minor": 0,
  "metadata": {
    "colab": {
      "provenance": []
    },
    "kernelspec": {
      "name": "python3",
      "display_name": "Python 3"
    },
    "language_info": {
      "name": "python"
    }
  },
  "cells": [
    {
      "cell_type": "code",
      "execution_count": null,
      "metadata": {
        "id": "bnCo3SznWuLW"
      },
      "outputs": [],
      "source": [
        "import nltk\n",
        "from nltk.tokenize import sent_tokenize"
      ]
    },
    {
      "cell_type": "code",
      "source": [
        "nltk.download('punkt_tab')\n",
        "text = \"I love NLP. It's fascinating! Sentence tokenization is very useful.\"\n",
        "sentences = sent_tokenize(text)\n",
        "print(sentences)"
      ],
      "metadata": {
        "id": "ocXQwZLFXN_d",
        "colab": {
          "base_uri": "https://localhost:8080/"
        },
        "outputId": "9b277266-bb2d-4cf6-a18a-d2c2796a4b9d"
      },
      "execution_count": null,
      "outputs": [
        {
          "output_type": "stream",
          "name": "stderr",
          "text": [
            "[nltk_data] Downloading package punkt_tab to /root/nltk_data...\n",
            "[nltk_data]   Unzipping tokenizers/punkt_tab.zip.\n"
          ]
        },
        {
          "output_type": "stream",
          "name": "stdout",
          "text": [
            "['I love NLP.', \"It's fascinating!\", 'Sentence tokenization is very useful.']\n"
          ]
        }
      ]
    },
    {
      "cell_type": "code",
      "source": [
        "from nltk.tokenize import word_tokenize\n",
        "\n",
        "text = \"Tokenization is the process of breaking down text into tokens\"\n",
        "\n",
        "words = word_tokenize(text)\n",
        "print(words)"
      ],
      "metadata": {
        "id": "T5IMBH78YNt3",
        "colab": {
          "base_uri": "https://localhost:8080/"
        },
        "outputId": "92ff40b3-3b99-46b3-ab8e-3ad7c3dacedb"
      },
      "execution_count": null,
      "outputs": [
        {
          "output_type": "stream",
          "name": "stdout",
          "text": [
            "['Tokenization', 'is', 'the', 'process', 'of', 'breaking', 'down', 'text', 'into', 'tokens']\n"
          ]
        }
      ]
    },
    {
      "cell_type": "code",
      "source": [
        "text = \"\"\"Artificial Intelligence is transforming the world at an unprecedented pace. From self-driving cars to virtual assistants, AI applications are becoming an integral part of our daily lives. As this technology evolves, it also raises important ethical and societal questions. How should AI systems be regulated? What impact will they have on jobs and privacy? These are just some of the issues we must address as we move forward.\"\"\"\n",
        "\n",
        "words = word_tokenize(text)\n",
        "print(words)"
      ],
      "metadata": {
        "colab": {
          "base_uri": "https://localhost:8080/"
        },
        "id": "ghDpBJD9aLK-",
        "outputId": "5c7f2c4b-97e0-4108-8c0a-884126d385fb"
      },
      "execution_count": null,
      "outputs": [
        {
          "output_type": "stream",
          "name": "stdout",
          "text": [
            "['Artificial', 'Intelligence', 'is', 'transforming', 'the', 'world', 'at', 'an', 'unprecedented', 'pace', '.', 'From', 'self-driving', 'cars', 'to', 'virtual', 'assistants', ',', 'AI', 'applications', 'are', 'becoming', 'an', 'integral', 'part', 'of', 'our', 'daily', 'lives', '.', 'As', 'this', 'technology', 'evolves', ',', 'it', 'also', 'raises', 'important', 'ethical', 'and', 'societal', 'questions', '.', 'How', 'should', 'AI', 'systems', 'be', 'regulated', '?', 'What', 'impact', 'will', 'they', 'have', 'on', 'jobs', 'and', 'privacy', '?', 'These', 'are', 'just', 'some', 'of', 'the', 'issues', 'we', 'must', 'address', 'as', 'we', 'move', 'forward', '.']\n"
          ]
        }
      ]
    },
    {
      "cell_type": "code",
      "source": [
        "para = \"\"\"Artificial Intelligence is transforming the world at an unprecedented pace. From self-driving cars to virtual assistants, AI applications are becoming an integral part of our daily lives. As this technology evolves, it also raises important ethical and societal questions. How should AI systems be regulated? What impact will they have on jobs and privacy? These are just some of the issues we must address as we move forward.\"\"\"\n",
        "\n",
        "sent = sent_tokenize(para)\n",
        "print(sent)"
      ],
      "metadata": {
        "colab": {
          "base_uri": "https://localhost:8080/"
        },
        "id": "xyCRT6dvadur",
        "outputId": "841d7a66-0759-48ac-aca6-2cb29e82c292"
      },
      "execution_count": null,
      "outputs": [
        {
          "output_type": "stream",
          "name": "stdout",
          "text": [
            "['Artificial Intelligence is transforming the world at an unprecedented pace.', 'From self-driving cars to virtual assistants, AI applications are becoming an integral part of our daily lives.', 'As this technology evolves, it also raises important ethical and societal questions.', 'How should AI systems be regulated?', 'What impact will they have on jobs and privacy?', 'These are just some of the issues we must address as we move forward.']\n"
          ]
        }
      ]
    },
    {
      "cell_type": "code",
      "source": [
        "from nltk.stem import PorterStemmer\n",
        "\n",
        "stemmer = PorterStemmer()\n",
        "\n",
        "words = [\"running\", \"studies\", \"leaves\", \"cars\", \"flies\"]\n",
        "\n",
        "stems = [stemmer.stem(word) for word in words]\n",
        "\n",
        "print(\"Original Words:\", words)\n",
        "print(\"Stemmed Words: \", stems)"
      ],
      "metadata": {
        "colab": {
          "base_uri": "https://localhost:8080/"
        },
        "id": "kL-dJqbvbH4r",
        "outputId": "cecc3d90-07a1-46e5-85b4-6709e6f48b7e"
      },
      "execution_count": null,
      "outputs": [
        {
          "output_type": "stream",
          "name": "stdout",
          "text": [
            "Original Words: ['running', 'studies', 'leaves', 'cars', 'flies']\n",
            "Stemmed Words:  ['run', 'studi', 'leav', 'car', 'fli']\n"
          ]
        }
      ]
    },
    {
      "cell_type": "code",
      "source": [
        "from nltk.stem import WordNetLemmatizer\n",
        "from nltk.corpus import wordnet\n",
        "nltk.download('wordnet')\n",
        "\n",
        "lemmatizer = WordNetLemmatizer()\n",
        "\n",
        "words = [\"running\", \"studies\", \"leaves\", \"cars\", \"flies\"]\n",
        "\n",
        "lemmas = [lemmatizer.lemmatize(word, pos=wordnet.VERB) for word in words]\n",
        "\n",
        "print(\"Original Words:\", words)\n",
        "print(\"Stemmed Words: \", lemmas)\n"
      ],
      "metadata": {
        "colab": {
          "base_uri": "https://localhost:8080/"
        },
        "id": "OgdWVxRYk8VZ",
        "outputId": "afbc1331-867f-43d0-9396-3ad3af489938"
      },
      "execution_count": null,
      "outputs": [
        {
          "output_type": "stream",
          "name": "stdout",
          "text": [
            "Original Words: ['running', 'studies', 'leaves', 'cars', 'flies']\n",
            "Stemmed Words:  ['run', 'study', 'leave', 'cars', 'fly']\n"
          ]
        },
        {
          "output_type": "stream",
          "name": "stderr",
          "text": [
            "[nltk_data] Downloading package wordnet to /root/nltk_data...\n",
            "[nltk_data]   Package wordnet is already up-to-date!\n"
          ]
        }
      ]
    },
    {
      "cell_type": "code",
      "source": [
        "from nltk.stem import PorterStemmer\n",
        "from nltk.corpus import stopwords\n",
        "nltk.download('stopwords')\n",
        "\n",
        "paragraph = \"\"\"Artificial Intelligence is transforming the world at an unprecedented pace. From self-driving cars to virtual assistants, AI applications are becoming an integral part of our daily lives. As this technology evolves, it also raises important ethical and societal questions. How should AI systems be regulated? What impact will they have on jobs and privacy? These are just some of the issues we must address as we move forward.\"\"\"\n",
        "\n",
        "sentences = nltk.sent_tokenize(paragraph)\n",
        "stemmer = PorterStemmer()\n",
        "\n",
        "for i in range(len(sentences)):\n",
        "    words = nltk.word_tokenize(sentences[i])\n",
        "    words = [stemmer.stem(word) for word in words if word not in set (stopwords.words('english'))]\n",
        "    sentences[i] = ' '.join(words)\n",
        "sentences"
      ],
      "metadata": {
        "colab": {
          "base_uri": "https://localhost:8080/"
        },
        "id": "4Seljh5pmRGW",
        "outputId": "27049dce-e6a7-4ec5-df02-c63ccf49a5cf"
      },
      "execution_count": null,
      "outputs": [
        {
          "output_type": "stream",
          "name": "stderr",
          "text": [
            "[nltk_data] Downloading package stopwords to /root/nltk_data...\n",
            "[nltk_data]   Unzipping corpora/stopwords.zip.\n"
          ]
        },
        {
          "output_type": "execute_result",
          "data": {
            "text/plain": [
              "['artifici intellig transform world unpreced pace .',\n",
              " 'from self-driv car virtual assist , ai applic becom integr part daili live .',\n",
              " 'as technolog evolv , also rais import ethic societ question .',\n",
              " 'how ai system regul ?',\n",
              " 'what impact job privaci ?',\n",
              " 'these issu must address move forward .']"
            ]
          },
          "metadata": {},
          "execution_count": 36
        }
      ]
    },
    {
      "cell_type": "code",
      "source": [
        "from nltk.stem import WordNetLemmatizer\n",
        "from nltk.corpus import stopwords\n",
        "nltk.download('stopwords')\n",
        "\n",
        "paragraph = \"\"\"Artificial Intelligence is transforming the world at an unprecedented pace. From self-driving cars to virtual assistants, AI applications are becoming an integral part of our daily lives. As this technology evolves, it also raises important ethical and societal questions. How should AI systems be regulated? What impact will they have on jobs and privacy? These are just some of the issues we must address as we move forward.\"\"\"\n",
        "\n",
        "sentences = nltk.sent_tokenize(paragraph)\n",
        "lemmatizer = WordNetLemmatizer()\n",
        "\n",
        "for i in range(len(sentences)):\n",
        "    words = nltk.word_tokenize(sentences[i])\n",
        "    words = [lemmatizer.lemmatize(word) for word in words if word not in set (stopwords.words('english'))]\n",
        "    sentences[i] = ' '.join(words)\n",
        "sentences"
      ],
      "metadata": {
        "colab": {
          "base_uri": "https://localhost:8080/"
        },
        "id": "UAFHfrVwrdM8",
        "outputId": "8752abbe-160a-4420-d6ac-df6ed3e75998"
      },
      "execution_count": null,
      "outputs": [
        {
          "output_type": "stream",
          "name": "stderr",
          "text": [
            "[nltk_data] Downloading package stopwords to /root/nltk_data...\n",
            "[nltk_data]   Package stopwords is already up-to-date!\n"
          ]
        },
        {
          "output_type": "execute_result",
          "data": {
            "text/plain": [
              "['Artificial Intelligence transforming world unprecedented pace .',\n",
              " 'From self-driving car virtual assistant , AI application becoming integral part daily life .',\n",
              " 'As technology evolves , also raise important ethical societal question .',\n",
              " 'How AI system regulated ?',\n",
              " 'What impact job privacy ?',\n",
              " 'These issue must address move forward .']"
            ]
          },
          "metadata": {},
          "execution_count": 38
        }
      ]
    },
    {
      "cell_type": "code",
      "source": [],
      "metadata": {
        "id": "UQO_QdcsswMq"
      },
      "execution_count": null,
      "outputs": []
    }
  ]
}